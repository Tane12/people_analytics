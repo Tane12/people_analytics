{
 "cells": [
  {
   "cell_type": "code",
   "execution_count": 1,
   "id": "446ce076",
   "metadata": {},
   "outputs": [
    {
     "name": "stdout",
     "output_type": "stream",
     "text": [
      "| job_satisfaction_level   | engagement_with_task   | last_performance_evaluation   | completed_projects   | average_working_hours_monthly   | years_spent_with_company   | received_support   | left   | promotion_last_5years   | job_role          | salary   |\n",
      "|:-------------------------|:-----------------------|:------------------------------|:---------------------|:--------------------------------|:---------------------------|:-------------------|:-------|:------------------------|:------------------|:---------|\n",
      "| 0.38                     | 0.19                   | 0.53                          | 2                    | 157                             | 3                          | 0                  | 1      | 0                       | investment_banker | low      |\n",
      "| 0.8                      | 0.72                   | 0.86                          | 5                    | 262                             | 6                          | 0                  | 1      | 0                       | investment_banker | medium   |\n",
      "| 0.11                     | 0.82                   | 0.88                          | 7                    | 272                             | 4                          | 0                  | 1      | 0                       | investment_banker | medium   |\n",
      "| 0.72                     | 0.66                   | 0.87                          | 5                    | 223                             | 5                          | 0                  | 1      | 0                       | investment_banker | low      |\n",
      "| 0.37                     | 0.52                   | 0.52                          | 2                    | 159                             | 3                          | 0                  | 1      | 0                       | investment_banker | low      |\n",
      "<class 'pandas.core.frame.DataFrame'>\n",
      "RangeIndex: 14999 entries, 0 to 14998\n",
      "Data columns (total 11 columns):\n",
      " #   Column                         Non-Null Count  Dtype  \n",
      "---  ------                         --------------  -----  \n",
      " 0   job_satisfaction_level         14999 non-null  float64\n",
      " 1   engagement_with_task           14999 non-null  float64\n",
      " 2   last_performance_evaluation    14999 non-null  float64\n",
      " 3   completed_projects             14999 non-null  int64  \n",
      " 4   average_working_hours_monthly  14999 non-null  int64  \n",
      " 5   years_spent_with_company       14999 non-null  int64  \n",
      " 6   received_support               14999 non-null  int64  \n",
      " 7   left                           14999 non-null  int64  \n",
      " 8   promotion_last_5years          14999 non-null  int64  \n",
      " 9   job_role                       14999 non-null  object \n",
      " 10  salary                         14999 non-null  object \n",
      "dtypes: float64(3), int64(6), object(2)\n",
      "memory usage: 1.3+ MB\n",
      "None\n"
     ]
    }
   ],
   "source": [
    "import pandas as pd\n",
    "\n",
    "# Read the CSV file into a DataFrame\n",
    "df = pd.read_csv('FAU_Bank_Turnover.csv')\n",
    "\n",
    "# Display the first 5 rows\n",
    "print(df.head().to_markdown(index=False, numalign=\"left\", stralign=\"left\"))\n",
    "\n",
    "# Print the column names and their data types\n",
    "print(df.info())"
   ]
  },
  {
   "cell_type": "code",
   "execution_count": 2,
   "id": "040ffc5a",
   "metadata": {},
   "outputs": [],
   "source": [
    "# Filter to only include employees who left\n",
    "left_employees = df[df['left'] == 1]"
   ]
  },
  {
   "cell_type": "code",
   "execution_count": 3,
   "id": "8caa33c0",
   "metadata": {},
   "outputs": [
    {
     "name": "stdout",
     "output_type": "stream",
     "text": [
      "Average job satisfaction level of employees who left: 0.44\n"
     ]
    }
   ],
   "source": [
    "# Calculate and print the mean job satisfaction level of employees who left\n",
    "mean_job_satisfaction = left_employees['job_satisfaction_level'].mean()\n",
    "print(f'Average job satisfaction level of employees who left: {mean_job_satisfaction:.2f}')"
   ]
  },
  {
   "cell_type": "code",
   "execution_count": 4,
   "id": "92bfdb4f",
   "metadata": {},
   "outputs": [
    {
     "name": "stdout",
     "output_type": "stream",
     "text": [
      "Average salary level of employees who left: 1.41\n"
     ]
    },
    {
     "name": "stderr",
     "output_type": "stream",
     "text": [
      "C:\\Users\\tanej\\AppData\\Local\\Temp\\ipykernel_45620\\280759420.py:5: SettingWithCopyWarning: \n",
      "A value is trying to be set on a copy of a slice from a DataFrame.\n",
      "Try using .loc[row_indexer,col_indexer] = value instead\n",
      "\n",
      "See the caveats in the documentation: https://pandas.pydata.org/pandas-docs/stable/user_guide/indexing.html#returning-a-view-versus-a-copy\n",
      "  left_employees['salary_mapped'] = left_employees['salary'].map(salary_mapping)\n",
      "C:\\Users\\tanej\\AppData\\Local\\Temp\\ipykernel_45620\\280759420.py:8: SettingWithCopyWarning: \n",
      "A value is trying to be set on a copy of a slice from a DataFrame.\n",
      "Try using .loc[row_indexer,col_indexer] = value instead\n",
      "\n",
      "See the caveats in the documentation: https://pandas.pydata.org/pandas-docs/stable/user_guide/indexing.html#returning-a-view-versus-a-copy\n",
      "  left_employees['salary_mapped'] = pd.to_numeric(left_employees['salary_mapped'])\n"
     ]
    }
   ],
   "source": [
    "# Create a mapping of salary levels to numerical values\n",
    "salary_mapping = {'low': 1, 'medium': 2, 'high': 3}\n",
    "\n",
    "# Map the salary values in the filtered dataset to numerical values\n",
    "left_employees['salary_mapped'] = left_employees['salary'].map(salary_mapping)\n",
    "\n",
    "# Convert the `salary_mapped` column in `left_employees` to numeric datatype\n",
    "left_employees['salary_mapped'] = pd.to_numeric(left_employees['salary_mapped'])\n",
    "\n",
    "# Calculate and print the mean mapped salary of employees who left\n",
    "mean_salary_mapped = left_employees['salary_mapped'].mean()\n",
    "print(f'Average salary level of employees who left: {mean_salary_mapped:.2f}')"
   ]
  },
  {
   "cell_type": "code",
   "execution_count": 5,
   "id": "a11525e9",
   "metadata": {},
   "outputs": [
    {
     "name": "stdout",
     "output_type": "stream",
     "text": [
      "Average years spent at the company for employees who left: 3.88\n"
     ]
    }
   ],
   "source": [
    "# Calculate and print the mean years spent at the company of employees who left\n",
    "mean_years_spent = left_employees['years_spent_with_company'].mean()\n",
    "print(f'Average years spent at the company for employees who left: {mean_years_spent:.2f}')"
   ]
  },
  {
   "cell_type": "code",
   "execution_count": 6,
   "id": "5b7012e7",
   "metadata": {},
   "outputs": [],
   "source": [
    "# Calculate the number of employees who left for each salary level\n",
    "left_counts_by_salary = left_employees['salary'].value_counts()"
   ]
  },
  {
   "cell_type": "code",
   "execution_count": 7,
   "id": "8ff90184",
   "metadata": {},
   "outputs": [
    {
     "name": "stdout",
     "output_type": "stream",
     "text": [
      "total number of employees who left: 3571\n"
     ]
    }
   ],
   "source": [
    "# Calculate the total number of employees who left\n",
    "total_left = left_counts_by_salary.sum()\n",
    "print(f'total number of employees who left: {total_left}')"
   ]
  },
  {
   "cell_type": "code",
   "execution_count": 8,
   "id": "89bea789",
   "metadata": {},
   "outputs": [
    {
     "name": "stdout",
     "output_type": "stream",
     "text": [
      "Proportion of employees who left for each salary level:\n",
      "|        | salary    |\n",
      "|:-------|:----------|\n",
      "| low    | 0.608233  |\n",
      "| medium | 0.368804  |\n",
      "| high   | 0.0229628 |\n"
     ]
    }
   ],
   "source": [
    "# Calculate the proportion of employees who left for each salary level\n",
    "left_proportions_by_salary = left_counts_by_salary / total_left\n",
    "\n",
    "# Print the proportions of employees who left for each salary level\n",
    "print(\"Proportion of employees who left for each salary level:\")\n",
    "print(left_proportions_by_salary.to_markdown(numalign=\"left\", stralign=\"left\"))"
   ]
  },
  {
   "cell_type": "code",
   "execution_count": 12,
   "id": "2c33717e",
   "metadata": {},
   "outputs": [
    {
     "name": "stderr",
     "output_type": "stream",
     "text": [
      "C:\\Users\\tanej\\AppData\\Local\\Temp\\ipykernel_45620\\1301863367.py:3: FutureWarning: The default value of numeric_only in DataFrame.corr is deprecated. In a future version, it will default to False. Select only valid columns or specify the value of numeric_only to silence this warning.\n",
      "  correlation_matrix = df.corr()\n"
     ]
    },
    {
     "name": "stdout",
     "output_type": "stream",
     "text": [
      "Correlation matrix:\n",
      "|                               | job_satisfaction_level   | engagement_with_task   | last_performance_evaluation   | completed_projects   | average_working_hours_monthly   | years_spent_with_company   | received_support   | left   | promotion_last_5years   |\n",
      "|:------------------------------|:-------------------------|:-----------------------|:------------------------------|:---------------------|:--------------------------------|:---------------------------|:-------------------|:-------|:------------------------|\n",
      "| job_satisfaction_level        | 1                        | -0.01                  | 0.11                          | -0.14                | -0.02                           | -0.1                       | 0.06               | -0.39  | 0.03                    |\n",
      "| engagement_with_task          | -0.01                    | 1                      | -0                            | -0.01                | 0                               | -0                         | -0                 | 0.01   | -0.01                   |\n",
      "| last_performance_evaluation   | 0.11                     | -0                     | 1                             | 0.35                 | 0.34                            | 0.13                       | -0.01              | 0.01   | -0.01                   |\n",
      "| completed_projects            | -0.14                    | -0.01                  | 0.35                          | 1                    | 0.42                            | 0.2                        | -0                 | 0.02   | -0.01                   |\n",
      "| average_working_hours_monthly | -0.02                    | 0                      | 0.34                          | 0.42                 | 1                               | 0.13                       | -0.01              | 0.07   | -0                      |\n",
      "| years_spent_with_company      | -0.1                     | -0                     | 0.13                          | 0.2                  | 0.13                            | 1                          | 0                  | 0.14   | 0.07                    |\n",
      "| received_support              | 0.06                     | -0                     | -0.01                         | -0                   | -0.01                           | 0                          | 1                  | -0.15  | 0.04                    |\n",
      "| left                          | -0.39                    | 0.01                   | 0.01                          | 0.02                 | 0.07                            | 0.14                       | -0.15              | 1      | -0.06                   |\n",
      "| promotion_last_5years         | 0.03                     | -0.01                  | -0.01                         | -0.01                | -0                              | 0.07                       | 0.04               | -0.06  | 1                       |\n"
     ]
    },
    {
     "data": {
      "text/html": [
       "\n",
       "<style>\n",
       "  #altair-viz-76f9218e6bd74c868de90936ef18739c.vega-embed {\n",
       "    width: 100%;\n",
       "    display: flex;\n",
       "  }\n",
       "\n",
       "  #altair-viz-76f9218e6bd74c868de90936ef18739c.vega-embed details,\n",
       "  #altair-viz-76f9218e6bd74c868de90936ef18739c.vega-embed details summary {\n",
       "    position: relative;\n",
       "  }\n",
       "</style>\n",
       "<div id=\"altair-viz-76f9218e6bd74c868de90936ef18739c\"></div>\n",
       "<script type=\"text/javascript\">\n",
       "  var VEGA_DEBUG = (typeof VEGA_DEBUG == \"undefined\") ? {} : VEGA_DEBUG;\n",
       "  (function(spec, embedOpt){\n",
       "    let outputDiv = document.currentScript.previousElementSibling;\n",
       "    if (outputDiv.id !== \"altair-viz-76f9218e6bd74c868de90936ef18739c\") {\n",
       "      outputDiv = document.getElementById(\"altair-viz-76f9218e6bd74c868de90936ef18739c\");\n",
       "    }\n",
       "    const paths = {\n",
       "      \"vega\": \"https://cdn.jsdelivr.net/npm/vega@5?noext\",\n",
       "      \"vega-lib\": \"https://cdn.jsdelivr.net/npm/vega-lib?noext\",\n",
       "      \"vega-lite\": \"https://cdn.jsdelivr.net/npm/vega-lite@5.17.0?noext\",\n",
       "      \"vega-embed\": \"https://cdn.jsdelivr.net/npm/vega-embed@6?noext\",\n",
       "    };\n",
       "\n",
       "    function maybeLoadScript(lib, version) {\n",
       "      var key = `${lib.replace(\"-\", \"\")}_version`;\n",
       "      return (VEGA_DEBUG[key] == version) ?\n",
       "        Promise.resolve(paths[lib]) :\n",
       "        new Promise(function(resolve, reject) {\n",
       "          var s = document.createElement('script');\n",
       "          document.getElementsByTagName(\"head\")[0].appendChild(s);\n",
       "          s.async = true;\n",
       "          s.onload = () => {\n",
       "            VEGA_DEBUG[key] = version;\n",
       "            return resolve(paths[lib]);\n",
       "          };\n",
       "          s.onerror = () => reject(`Error loading script: ${paths[lib]}`);\n",
       "          s.src = paths[lib];\n",
       "        });\n",
       "    }\n",
       "\n",
       "    function showError(err) {\n",
       "      outputDiv.innerHTML = `<div class=\"error\" style=\"color:red;\">${err}</div>`;\n",
       "      throw err;\n",
       "    }\n",
       "\n",
       "    function displayChart(vegaEmbed) {\n",
       "      vegaEmbed(outputDiv, spec, embedOpt)\n",
       "        .catch(err => showError(`Javascript Error: ${err.message}<br>This usually means there's a typo in your chart specification. See the javascript console for the full traceback.`));\n",
       "    }\n",
       "\n",
       "    if(typeof define === \"function\" && define.amd) {\n",
       "      requirejs.config({paths});\n",
       "      require([\"vega-embed\"], displayChart, err => showError(`Error loading script: ${err.message}`));\n",
       "    } else {\n",
       "      maybeLoadScript(\"vega\", \"5\")\n",
       "        .then(() => maybeLoadScript(\"vega-lite\", \"5.17.0\"))\n",
       "        .then(() => maybeLoadScript(\"vega-embed\", \"6\"))\n",
       "        .catch(showError)\n",
       "        .then(() => displayChart(vegaEmbed));\n",
       "    }\n",
       "  })({\"config\": {\"view\": {\"continuousWidth\": 300, \"continuousHeight\": 300}}, \"layer\": [{\"mark\": {\"type\": \"rect\"}, \"encoding\": {\"color\": {\"field\": \"value\", \"scale\": {\"scheme\": \"blueorange\"}, \"type\": \"quantitative\"}, \"tooltip\": [{\"field\": \"index\", \"type\": \"nominal\"}, {\"field\": \"variable\", \"type\": \"nominal\"}, {\"field\": \"value\", \"type\": \"quantitative\"}], \"x\": {\"axis\": {\"labelAngle\": -45}, \"field\": \"index\", \"type\": \"ordinal\"}, \"y\": {\"field\": \"variable\", \"type\": \"ordinal\"}}, \"name\": \"view_2\", \"title\": \"Correlation Heatmap\"}, {\"mark\": {\"type\": \"text\", \"baseline\": \"middle\"}, \"encoding\": {\"color\": {\"condition\": {\"test\": \"(datum.value > 0.5)\", \"value\": \"white\"}, \"value\": \"black\"}, \"text\": {\"field\": \"value\", \"format\": \".2f\", \"type\": \"quantitative\"}, \"tooltip\": [{\"field\": \"index\", \"type\": \"nominal\"}, {\"field\": \"variable\", \"type\": \"nominal\"}, {\"field\": \"value\", \"type\": \"quantitative\"}], \"x\": {\"axis\": {\"labelAngle\": -45}, \"field\": \"index\", \"type\": \"ordinal\"}, \"y\": {\"field\": \"variable\", \"type\": \"ordinal\"}}, \"title\": \"Correlation Heatmap\"}], \"data\": {\"name\": \"data-112155fbc1a1ba9f73a7e69011b5bf10\"}, \"params\": [{\"name\": \"param_3\", \"select\": {\"type\": \"interval\", \"encodings\": [\"x\", \"y\"]}, \"bind\": \"scales\", \"views\": [\"view_2\"]}], \"$schema\": \"https://vega.github.io/schema/vega-lite/v5.17.0.json\", \"datasets\": {\"data-112155fbc1a1ba9f73a7e69011b5bf10\": [{\"index\": \"job_satisfaction_level\", \"variable\": \"job_satisfaction_level\", \"value\": 1.0}, {\"index\": \"engagement_with_task\", \"variable\": \"job_satisfaction_level\", \"value\": -0.011563268677992743}, {\"index\": \"last_performance_evaluation\", \"variable\": \"job_satisfaction_level\", \"value\": 0.10502121397148648}, {\"index\": \"completed_projects\", \"variable\": \"job_satisfaction_level\", \"value\": -0.14296958603690096}, {\"index\": \"average_working_hours_monthly\", \"variable\": \"job_satisfaction_level\", \"value\": -0.020048113219472644}, {\"index\": \"years_spent_with_company\", \"variable\": \"job_satisfaction_level\", \"value\": -0.10086607257796669}, {\"index\": \"received_support\", \"variable\": \"job_satisfaction_level\", \"value\": 0.05869724105197295}, {\"index\": \"left\", \"variable\": \"job_satisfaction_level\", \"value\": -0.3883749834241161}, {\"index\": \"promotion_last_5years\", \"variable\": \"job_satisfaction_level\", \"value\": 0.025605185709040485}, {\"index\": \"job_satisfaction_level\", \"variable\": \"engagement_with_task\", \"value\": -0.011563268677992743}, {\"index\": \"engagement_with_task\", \"variable\": \"engagement_with_task\", \"value\": 1.0}, {\"index\": \"last_performance_evaluation\", \"variable\": \"engagement_with_task\", \"value\": -0.003406923487384836}, {\"index\": \"completed_projects\", \"variable\": \"engagement_with_task\", \"value\": -0.012386982153164881}, {\"index\": \"average_working_hours_monthly\", \"variable\": \"engagement_with_task\", \"value\": 0.0030673953979417114}, {\"index\": \"years_spent_with_company\", \"variable\": \"engagement_with_task\", \"value\": -0.0016758838379764677}, {\"index\": \"received_support\", \"variable\": \"engagement_with_task\", \"value\": -0.001035101225400821}, {\"index\": \"left\", \"variable\": \"engagement_with_task\", \"value\": 0.01174883864401286}, {\"index\": \"promotion_last_5years\", \"variable\": \"engagement_with_task\", \"value\": -0.010108971023907698}, {\"index\": \"job_satisfaction_level\", \"variable\": \"last_performance_evaluation\", \"value\": 0.10502121397148648}, {\"index\": \"engagement_with_task\", \"variable\": \"last_performance_evaluation\", \"value\": -0.003406923487384836}, {\"index\": \"last_performance_evaluation\", \"variable\": \"last_performance_evaluation\", \"value\": 1.0}, {\"index\": \"completed_projects\", \"variable\": \"last_performance_evaluation\", \"value\": 0.34933258851626237}, {\"index\": \"average_working_hours_monthly\", \"variable\": \"last_performance_evaluation\", \"value\": 0.3397417998383594}, {\"index\": \"years_spent_with_company\", \"variable\": \"last_performance_evaluation\", \"value\": 0.13159072244765863}, {\"index\": \"received_support\", \"variable\": \"last_performance_evaluation\", \"value\": -0.0071042885196038325}, {\"index\": \"left\", \"variable\": \"last_performance_evaluation\", \"value\": 0.006567120447529851}, {\"index\": \"promotion_last_5years\", \"variable\": \"last_performance_evaluation\", \"value\": -0.008683767904798018}, {\"index\": \"job_satisfaction_level\", \"variable\": \"completed_projects\", \"value\": -0.14296958603690096}, {\"index\": \"engagement_with_task\", \"variable\": \"completed_projects\", \"value\": -0.012386982153164881}, {\"index\": \"last_performance_evaluation\", \"variable\": \"completed_projects\", \"value\": 0.34933258851626237}, {\"index\": \"completed_projects\", \"variable\": \"completed_projects\", \"value\": 1.0}, {\"index\": \"average_working_hours_monthly\", \"variable\": \"completed_projects\", \"value\": 0.41721063440177986}, {\"index\": \"years_spent_with_company\", \"variable\": \"completed_projects\", \"value\": 0.1967858912637905}, {\"index\": \"received_support\", \"variable\": \"completed_projects\", \"value\": -0.004740547719769696}, {\"index\": \"left\", \"variable\": \"completed_projects\", \"value\": 0.023787185071774745}, {\"index\": \"promotion_last_5years\", \"variable\": \"completed_projects\", \"value\": -0.006063957924538921}, {\"index\": \"job_satisfaction_level\", \"variable\": \"average_working_hours_monthly\", \"value\": -0.020048113219472644}, {\"index\": \"engagement_with_task\", \"variable\": \"average_working_hours_monthly\", \"value\": 0.0030673953979417114}, {\"index\": \"last_performance_evaluation\", \"variable\": \"average_working_hours_monthly\", \"value\": 0.3397417998383594}, {\"index\": \"completed_projects\", \"variable\": \"average_working_hours_monthly\", \"value\": 0.41721063440177986}, {\"index\": \"average_working_hours_monthly\", \"variable\": \"average_working_hours_monthly\", \"value\": 1.0}, {\"index\": \"years_spent_with_company\", \"variable\": \"average_working_hours_monthly\", \"value\": 0.1277549103618603}, {\"index\": \"received_support\", \"variable\": \"average_working_hours_monthly\", \"value\": -0.01014288818580297}, {\"index\": \"left\", \"variable\": \"average_working_hours_monthly\", \"value\": 0.07128717878330088}, {\"index\": \"promotion_last_5years\", \"variable\": \"average_working_hours_monthly\", \"value\": -0.0035444142929947717}, {\"index\": \"job_satisfaction_level\", \"variable\": \"years_spent_with_company\", \"value\": -0.10086607257796669}, {\"index\": \"engagement_with_task\", \"variable\": \"years_spent_with_company\", \"value\": -0.0016758838379764677}, {\"index\": \"last_performance_evaluation\", \"variable\": \"years_spent_with_company\", \"value\": 0.13159072244765863}, {\"index\": \"completed_projects\", \"variable\": \"years_spent_with_company\", \"value\": 0.1967858912637905}, {\"index\": \"average_working_hours_monthly\", \"variable\": \"years_spent_with_company\", \"value\": 0.1277549103618603}, {\"index\": \"years_spent_with_company\", \"variable\": \"years_spent_with_company\", \"value\": 1.0}, {\"index\": \"received_support\", \"variable\": \"years_spent_with_company\", \"value\": 0.0021204180967097077}, {\"index\": \"left\", \"variable\": \"years_spent_with_company\", \"value\": 0.14482217493938626}, {\"index\": \"promotion_last_5years\", \"variable\": \"years_spent_with_company\", \"value\": 0.06743292538341968}, {\"index\": \"job_satisfaction_level\", \"variable\": \"received_support\", \"value\": 0.05869724105197295}, {\"index\": \"engagement_with_task\", \"variable\": \"received_support\", \"value\": -0.001035101225400821}, {\"index\": \"last_performance_evaluation\", \"variable\": \"received_support\", \"value\": -0.0071042885196038325}, {\"index\": \"completed_projects\", \"variable\": \"received_support\", \"value\": -0.004740547719769696}, {\"index\": \"average_working_hours_monthly\", \"variable\": \"received_support\", \"value\": -0.01014288818580297}, {\"index\": \"years_spent_with_company\", \"variable\": \"received_support\", \"value\": 0.0021204180967097077}, {\"index\": \"received_support\", \"variable\": \"received_support\", \"value\": 1.0}, {\"index\": \"left\", \"variable\": \"received_support\", \"value\": -0.15462163370513443}, {\"index\": \"promotion_last_5years\", \"variable\": \"received_support\", \"value\": 0.039245434583548434}, {\"index\": \"job_satisfaction_level\", \"variable\": \"left\", \"value\": -0.3883749834241161}, {\"index\": \"engagement_with_task\", \"variable\": \"left\", \"value\": 0.01174883864401286}, {\"index\": \"last_performance_evaluation\", \"variable\": \"left\", \"value\": 0.006567120447529851}, {\"index\": \"completed_projects\", \"variable\": \"left\", \"value\": 0.023787185071774745}, {\"index\": \"average_working_hours_monthly\", \"variable\": \"left\", \"value\": 0.07128717878330088}, {\"index\": \"years_spent_with_company\", \"variable\": \"left\", \"value\": 0.14482217493938626}, {\"index\": \"received_support\", \"variable\": \"left\", \"value\": -0.15462163370513443}, {\"index\": \"left\", \"variable\": \"left\", \"value\": 1.0}, {\"index\": \"promotion_last_5years\", \"variable\": \"left\", \"value\": -0.06178810657920049}, {\"index\": \"job_satisfaction_level\", \"variable\": \"promotion_last_5years\", \"value\": 0.025605185709040485}, {\"index\": \"engagement_with_task\", \"variable\": \"promotion_last_5years\", \"value\": -0.010108971023907698}, {\"index\": \"last_performance_evaluation\", \"variable\": \"promotion_last_5years\", \"value\": -0.008683767904798018}, {\"index\": \"completed_projects\", \"variable\": \"promotion_last_5years\", \"value\": -0.006063957924538921}, {\"index\": \"average_working_hours_monthly\", \"variable\": \"promotion_last_5years\", \"value\": -0.0035444142929947717}, {\"index\": \"years_spent_with_company\", \"variable\": \"promotion_last_5years\", \"value\": 0.06743292538341968}, {\"index\": \"received_support\", \"variable\": \"promotion_last_5years\", \"value\": 0.039245434583548434}, {\"index\": \"left\", \"variable\": \"promotion_last_5years\", \"value\": -0.06178810657920049}, {\"index\": \"promotion_last_5years\", \"variable\": \"promotion_last_5years\", \"value\": 1.0}]}}, {\"mode\": \"vega-lite\"});\n",
       "</script>"
      ],
      "text/plain": [
       "alt.LayerChart(...)"
      ]
     },
     "metadata": {},
     "output_type": "display_data"
    },
    {
     "name": "stdout",
     "output_type": "stream",
     "text": [
      "Correlations with 'left':\n",
      "| Feature                       | Correlation   | Abs_Correlation   |\n",
      "|:------------------------------|:--------------|:------------------|\n",
      "| left                          | 1             | 1                 |\n",
      "| job_satisfaction_level        | -0.388375     | 0.388375          |\n",
      "| received_support              | -0.154622     | 0.154622          |\n",
      "| years_spent_with_company      | 0.144822      | 0.144822          |\n",
      "| average_working_hours_monthly | 0.0712872     | 0.0712872         |\n",
      "| promotion_last_5years         | -0.0617881    | 0.0617881         |\n",
      "| completed_projects            | 0.0237872     | 0.0237872         |\n",
      "| engagement_with_task          | 0.0117488     | 0.0117488         |\n",
      "| last_performance_evaluation   | 0.00656712    | 0.00656712        |\n"
     ]
    },
    {
     "data": {
      "text/html": [
       "\n",
       "<style>\n",
       "  #altair-viz-7c43a01e86604f26a5ad9137559e23a0.vega-embed {\n",
       "    width: 100%;\n",
       "    display: flex;\n",
       "  }\n",
       "\n",
       "  #altair-viz-7c43a01e86604f26a5ad9137559e23a0.vega-embed details,\n",
       "  #altair-viz-7c43a01e86604f26a5ad9137559e23a0.vega-embed details summary {\n",
       "    position: relative;\n",
       "  }\n",
       "</style>\n",
       "<div id=\"altair-viz-7c43a01e86604f26a5ad9137559e23a0\"></div>\n",
       "<script type=\"text/javascript\">\n",
       "  var VEGA_DEBUG = (typeof VEGA_DEBUG == \"undefined\") ? {} : VEGA_DEBUG;\n",
       "  (function(spec, embedOpt){\n",
       "    let outputDiv = document.currentScript.previousElementSibling;\n",
       "    if (outputDiv.id !== \"altair-viz-7c43a01e86604f26a5ad9137559e23a0\") {\n",
       "      outputDiv = document.getElementById(\"altair-viz-7c43a01e86604f26a5ad9137559e23a0\");\n",
       "    }\n",
       "    const paths = {\n",
       "      \"vega\": \"https://cdn.jsdelivr.net/npm/vega@5?noext\",\n",
       "      \"vega-lib\": \"https://cdn.jsdelivr.net/npm/vega-lib?noext\",\n",
       "      \"vega-lite\": \"https://cdn.jsdelivr.net/npm/vega-lite@5.17.0?noext\",\n",
       "      \"vega-embed\": \"https://cdn.jsdelivr.net/npm/vega-embed@6?noext\",\n",
       "    };\n",
       "\n",
       "    function maybeLoadScript(lib, version) {\n",
       "      var key = `${lib.replace(\"-\", \"\")}_version`;\n",
       "      return (VEGA_DEBUG[key] == version) ?\n",
       "        Promise.resolve(paths[lib]) :\n",
       "        new Promise(function(resolve, reject) {\n",
       "          var s = document.createElement('script');\n",
       "          document.getElementsByTagName(\"head\")[0].appendChild(s);\n",
       "          s.async = true;\n",
       "          s.onload = () => {\n",
       "            VEGA_DEBUG[key] = version;\n",
       "            return resolve(paths[lib]);\n",
       "          };\n",
       "          s.onerror = () => reject(`Error loading script: ${paths[lib]}`);\n",
       "          s.src = paths[lib];\n",
       "        });\n",
       "    }\n",
       "\n",
       "    function showError(err) {\n",
       "      outputDiv.innerHTML = `<div class=\"error\" style=\"color:red;\">${err}</div>`;\n",
       "      throw err;\n",
       "    }\n",
       "\n",
       "    function displayChart(vegaEmbed) {\n",
       "      vegaEmbed(outputDiv, spec, embedOpt)\n",
       "        .catch(err => showError(`Javascript Error: ${err.message}<br>This usually means there's a typo in your chart specification. See the javascript console for the full traceback.`));\n",
       "    }\n",
       "\n",
       "    if(typeof define === \"function\" && define.amd) {\n",
       "      requirejs.config({paths});\n",
       "      require([\"vega-embed\"], displayChart, err => showError(`Error loading script: ${err.message}`));\n",
       "    } else {\n",
       "      maybeLoadScript(\"vega\", \"5\")\n",
       "        .then(() => maybeLoadScript(\"vega-lite\", \"5.17.0\"))\n",
       "        .then(() => maybeLoadScript(\"vega-embed\", \"6\"))\n",
       "        .catch(showError)\n",
       "        .then(() => displayChart(vegaEmbed));\n",
       "    }\n",
       "  })({\"config\": {\"view\": {\"continuousWidth\": 300, \"continuousHeight\": 300}}, \"data\": {\"name\": \"data-ef8a0789f995da3f8719f54e516be8b0\"}, \"mark\": {\"type\": \"bar\"}, \"encoding\": {\"tooltip\": [{\"field\": \"Feature\", \"type\": \"nominal\"}, {\"field\": \"Correlation\", \"type\": \"quantitative\"}], \"x\": {\"field\": \"Feature\", \"sort\": \"-y\", \"type\": \"nominal\"}, \"y\": {\"field\": \"Correlation\", \"type\": \"quantitative\"}}, \"params\": [{\"name\": \"param_4\", \"select\": {\"type\": \"interval\", \"encodings\": [\"x\", \"y\"]}, \"bind\": \"scales\"}], \"title\": \"Correlations with Employee Turnover\", \"$schema\": \"https://vega.github.io/schema/vega-lite/v5.17.0.json\", \"datasets\": {\"data-ef8a0789f995da3f8719f54e516be8b0\": [{\"Feature\": \"left\", \"Correlation\": 1.0, \"Abs_Correlation\": 1.0}, {\"Feature\": \"job_satisfaction_level\", \"Correlation\": -0.3883749834241161, \"Abs_Correlation\": 0.3883749834241161}, {\"Feature\": \"received_support\", \"Correlation\": -0.15462163370513443, \"Abs_Correlation\": 0.15462163370513443}, {\"Feature\": \"years_spent_with_company\", \"Correlation\": 0.14482217493938626, \"Abs_Correlation\": 0.14482217493938626}, {\"Feature\": \"average_working_hours_monthly\", \"Correlation\": 0.07128717878330088, \"Abs_Correlation\": 0.07128717878330088}, {\"Feature\": \"promotion_last_5years\", \"Correlation\": -0.06178810657920049, \"Abs_Correlation\": 0.06178810657920049}, {\"Feature\": \"completed_projects\", \"Correlation\": 0.023787185071774745, \"Abs_Correlation\": 0.023787185071774745}, {\"Feature\": \"engagement_with_task\", \"Correlation\": 0.01174883864401286, \"Abs_Correlation\": 0.01174883864401286}, {\"Feature\": \"last_performance_evaluation\", \"Correlation\": 0.006567120447529851, \"Abs_Correlation\": 0.006567120447529851}]}}, {\"mode\": \"vega-lite\"});\n",
       "</script>"
      ],
      "text/plain": [
       "alt.Chart(...)"
      ]
     },
     "metadata": {},
     "output_type": "display_data"
    }
   ],
   "source": [
    "import altair as alt\n",
    "# Calculate the correlation matrix\n",
    "correlation_matrix = df.corr()\n",
    "\n",
    "# Print the correlation matrix\n",
    "print(\"Correlation matrix:\")\n",
    "print(correlation_matrix.round(2).to_markdown(numalign=\"left\", stralign=\"left\"))\n",
    "\n",
    "# Create a DataFrame from the correlation matrix\n",
    "corr_df = correlation_matrix.reset_index().melt('index')\n",
    "\n",
    "# Create the heatmap\n",
    "heatmap = alt.Chart(corr_df).mark_rect().encode(\n",
    "    x=alt.X('index:O', axis=alt.Axis(labelAngle=-45)),\n",
    "    y=alt.Y('variable:O'),\n",
    "    color=alt.Color('value:Q', scale=alt.Scale(scheme='blueorange')),\n",
    "    tooltip=['index', 'variable', 'value']\n",
    ").properties(\n",
    "    title='Correlation Heatmap'\n",
    ").interactive()\n",
    "\n",
    "# Add text labels to the heatmap\n",
    "text = heatmap.mark_text(baseline='middle').encode(\n",
    "    text=alt.Text('value:Q', format='.2f'),\n",
    "    color=alt.condition(\n",
    "        alt.datum.value > 0.5, \n",
    "        alt.value('white'),\n",
    "        alt.value('black')\n",
    "    )\n",
    ")\n",
    "\n",
    "# Combine the heatmap and text layers\n",
    "chart = heatmap + text\n",
    "\n",
    "# Save the chart as a JSON file\n",
    "chart.save('correlation_heatmap.json')\n",
    "chart.show()\n",
    "\n",
    "# Filter the correlation matrix to only include correlations with the 'left' column\n",
    "correlations_with_left = correlation_matrix['left']\n",
    "\n",
    "# Create a DataFrame from the filtered correlations\n",
    "correlations_with_left_df = pd.DataFrame({'Feature': correlations_with_left.index, 'Correlation': correlations_with_left.values})\n",
    "\n",
    "# Sort the DataFrame by absolute value of correlations in descending order\n",
    "correlations_with_left_df['Abs_Correlation'] = correlations_with_left_df['Correlation'].abs()\n",
    "correlations_with_left_df = correlations_with_left_df.sort_values(by='Abs_Correlation', ascending=False)\n",
    "\n",
    "# Print the sorted correlations\n",
    "print(\"Correlations with 'left':\")\n",
    "print(correlations_with_left_df.to_markdown(index=False, numalign=\"left\", stralign=\"left\"))\n",
    "\n",
    "# Create a bar chart to visualize the correlations with the 'left' column\n",
    "bar_chart = alt.Chart(correlations_with_left_df).mark_bar().encode(\n",
    "    x=alt.X('Feature:N', sort='-y'),\n",
    "    y=alt.Y('Correlation:Q'),\n",
    "    tooltip=['Feature', 'Correlation']\n",
    ").properties(\n",
    "    title='Correlations with Employee Turnover'\n",
    ").interactive()\n",
    "\n",
    "# Save the chart as a JSON file\n",
    "bar_chart.save('correlations_with_left_bar_chart.json')\n",
    "bar_chart.show()"
   ]
  },
  {
   "cell_type": "code",
   "execution_count": null,
   "id": "5127dc59",
   "metadata": {},
   "outputs": [],
   "source": [
    "import pandas as pd\n",
    "from sklearn.model_selection import train_test_split\n",
    "from sklearn.linear_model import LogisticRegression\n",
    "from sklearn.ensemble import GradientBoostingClassifier\n",
    "from sklearn.svm import SVC\n",
    "from sklearn.neural_network import MLPClassifier\n",
    "from sklearn.metrics import accuracy_score, precision_score, recall_score, f1_score,log_loss\n",
    "\n",
    "# Create a mapping of job roles to numerical values\n",
    "job_role_mapping = {role: i for i, role in enumerate(df['job_role'].unique())}\n",
    "\n",
    "# Map the job roles in the DataFrame to numerical values\n",
    "df['job_role_mapped'] = df['job_role'].map(job_role_mapping)\n",
    "\n",
    "# Convert the `salary` column to ordered categorical datatype\n",
    "salary_order = ['low', 'medium', 'high']\n",
    "df['salary'] = pd.Categorical(df['salary'], categories=salary_order, ordered=True)\n",
    "\n",
    "# Bin the `job_satisfaction_level` into three equal-sized bins\n",
    "df['job_satisfaction_binned'] = pd.qcut(df['job_satisfaction_level'], 3, labels=['low', 'medium', 'high'])\n",
    "\n",
    "# Bin the `last_performance_evaluation` into three equal-sized bins\n",
    "df['performance_binned'] = pd.qcut(df['last_performance_evaluation'], 3, labels=['low', 'medium', 'high'])\n",
    "\n",
    "# Create a new feature called `workload`\n",
    "df['workload'] = df['completed_projects'] * df['average_working_hours_monthly']\n",
    "\n",
    "# Features (excluding the original columns that were transformed or are not relevant)\n",
    "features = ['job_satisfaction_binned', 'performance_binned', 'workload', 'years_spent_with_company', 'received_support', 'promotion_last_5years']"
   ]
  },
  {
   "cell_type": "code",
   "execution_count": 14,
   "id": "53d086ff",
   "metadata": {},
   "outputs": [
    {
     "name": "stdout",
     "output_type": "stream",
     "text": [
      "\n",
      "Comparison of Model Performance:\n",
      "| Model                      | Accuracy   | Precision   | Recall   | F1 Score   |\n",
      "|:---------------------------|:-----------|:------------|:---------|:-----------|\n",
      "| GradientBoostingClassifier | 0.959      | 0.938346    | 0.883853 | 0.910284   |\n",
      "| SVC                        | 0.873333   | 0.783972    | 0.637394 | 0.703125   |\n",
      "| MLPClassifier              | 0.823333   | 0.585938    | 0.849858 | 0.693642   |\n",
      "| LogisticRegression         | 0.731667   | 0.372751    | 0.205382 | 0.26484    |\n"
     ]
    }
   ],
   "source": [
    "# Separate features (X) and target variable (y)\n",
    "X = pd.get_dummies(df[features], drop_first=True)  # One-hot encode categorical features\n",
    "y = df['left']\n",
    "\n",
    "# Split the data into training and testing sets\n",
    "X_train, X_test, y_train, y_test = train_test_split(X, y, test_size=0.2, random_state=42)\n",
    "\n",
    "# Function to train and evaluate a model\n",
    "def train_and_evaluate_model(model, X_train, X_test, y_train, y_test):\n",
    "    model.fit(X_train, y_train)\n",
    "    y_pred = model.predict(X_test)\n",
    "\n",
    "    accuracy = accuracy_score(y_test, y_pred)\n",
    "    precision = precision_score(y_test, y_pred)\n",
    "    recall = recall_score(y_test, y_pred)\n",
    "    f1 = f1_score(y_test, y_pred)\n",
    "\n",
    "    return {\n",
    "        'Model': model.__class__.__name__,\n",
    "        'Accuracy': accuracy,\n",
    "        'Precision': precision,\n",
    "        'Recall': recall,\n",
    "        'F1 Score': f1\n",
    "    }\n",
    "\n",
    "# List of models to evaluate\n",
    "models = [\n",
    "    LogisticRegression(max_iter=1000),\n",
    "    GradientBoostingClassifier(n_estimators=100, random_state=42),\n",
    "    SVC(probability=True),  # Enable probability estimates for SVC\n",
    "    MLPClassifier(hidden_layer_sizes=(100,), max_iter=500, random_state=42)\n",
    "]\n",
    "\n",
    "# Train and evaluate each model\n",
    "results = []\n",
    "for model in models:\n",
    "    results.append(train_and_evaluate_model(model, X_train, X_test, y_train, y_test))\n",
    "\n",
    "# Create a DataFrame of results\n",
    "results_df = pd.DataFrame(results)\n",
    "\n",
    "# Sort the results DataFrame by accuracy in descending order\n",
    "results_df = results_df.sort_values(by='Accuracy', ascending=False)\n",
    "\n",
    "# Print results\n",
    "print(\"\\nComparison of Model Performance:\")\n",
    "print(results_df.to_markdown(index=False, numalign=\"left\", stralign=\"left\"))"
   ]
  },
  {
   "cell_type": "code",
   "execution_count": 15,
   "id": "d602f10b",
   "metadata": {},
   "outputs": [
    {
     "name": "stdout",
     "output_type": "stream",
     "text": [
      "Accuracy: 0.96\n",
      "Precision: 0.94\n",
      "Recall: 0.88\n",
      "F1 Score: 0.91\n",
      "Log Loss: 0.14\n"
     ]
    }
   ],
   "source": [
    "# Create and train the Gradient Boosting Classifier model\n",
    "model = GradientBoostingClassifier(n_estimators=100, random_state=42)\n",
    "model.fit(X_train, y_train)\n",
    "\n",
    "# Predict on the test set\n",
    "y_pred = model.predict(X_test)\n",
    "\n",
    "# Calculate performance metrics\n",
    "accuracy = accuracy_score(y_test, y_pred)\n",
    "precision = precision_score(y_test, y_pred)\n",
    "recall = recall_score(y_test, y_pred)\n",
    "f1 = f1_score(y_test, y_pred)\n",
    "logloss = log_loss(y_test, model.predict_proba(X_test)[:, 1])\n",
    "\n",
    "# Print performance metrics\n",
    "print(f'Accuracy: {accuracy:.2f}')\n",
    "print(f'Precision: {precision:.2f}')\n",
    "print(f'Recall: {recall:.2f}')\n",
    "print(f'F1 Score: {f1:.2f}')\n",
    "print(f'Log Loss: {logloss:.2f}')"
   ]
  },
  {
   "cell_type": "code",
   "execution_count": null,
   "id": "5869b9c0",
   "metadata": {},
   "outputs": [],
   "source": [
    "# Get feature importances from the model\n",
    "importances = model.feature_importances_\n",
    "\n",
    "# Create a DataFrame of feature importances\n",
    "importance_df = pd.DataFrame({'Feature': X.columns, 'Importance': importances})\n",
    "\n",
    "# Sort by importance in descending order\n",
    "importance_df = importance_df.sort_values(by='Importance', ascending=False)\n",
    "\n",
    "# Print the sorted feature importances\n",
    "print(\"\\nFeature Importances:\")\n",
    "print(importance_df.to_markdown(index=False, numalign=\"left\", stralign=\"left\"))"
   ]
  },
  {
   "cell_type": "code",
   "execution_count": null,
   "id": "383e1ceb",
   "metadata": {},
   "outputs": [],
   "source": []
  }
 ],
 "metadata": {
  "kernelspec": {
   "display_name": "Python 3 (ipykernel)",
   "language": "python",
   "name": "python3"
  },
  "language_info": {
   "codemirror_mode": {
    "name": "ipython",
    "version": 3
   },
   "file_extension": ".py",
   "mimetype": "text/x-python",
   "name": "python",
   "nbconvert_exporter": "python",
   "pygments_lexer": "ipython3",
   "version": "3.9.13"
  }
 },
 "nbformat": 4,
 "nbformat_minor": 5
}
